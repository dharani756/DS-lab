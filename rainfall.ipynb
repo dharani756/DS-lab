{
  "nbformat": 4,
  "nbformat_minor": 0,
  "metadata": {
    "colab": {
      "provenance": [],
      "authorship_tag": "ABX9TyOoH7CdElm/Y9D44SOTxJqb",
      "include_colab_link": true
    },
    "kernelspec": {
      "name": "python3",
      "display_name": "Python 3"
    },
    "language_info": {
      "name": "python"
    }
  },
  "cells": [
    {
      "cell_type": "markdown",
      "metadata": {
        "id": "view-in-github",
        "colab_type": "text"
      },
      "source": [
        "<a href=\"https://colab.research.google.com/github/dharani756/DS-lab/blob/main/rainfall.ipynb\" target=\"_parent\"><img src=\"https://colab.research.google.com/assets/colab-badge.svg\" alt=\"Open In Colab\"/></a>"
      ]
    },
    {
      "cell_type": "code",
      "source": [
        "\n",
        "import pandas as pd\n",
        "import matplotlib.pyplot as plt\n",
        "import seaborn as sns\n",
        "from sklearn.model_selection import train_test_split\n",
        "from sklearn.ensemble import RandomForestRegressor\n",
        "from sklearn.metrics import mean_squared_error, mean_absolute_error, r2_score\n",
        "\n",
        "\n",
        "# Load dataset\n",
        "df = pd.read_csv(\"/content/sample_data/odisha_rainfall.csv\")\n",
        "\n",
        "# Quick check\n",
        "print(df.head())\n",
        "print(df.info())\n",
        "print(df.describe())\n"
      ],
      "metadata": {
        "colab": {
          "base_uri": "https://localhost:8080/"
        },
        "id": "-BiVZ69V1m0C",
        "outputId": "6a69b397-f672-437e-ddeb-a31cad5910d2"
      },
      "execution_count": 19,
      "outputs": [
        {
          "output_type": "stream",
          "name": "stdout",
          "text": [
            "   District  January  February  March  April    May   June   July  August  \\\n",
            "0     ANGUL     12.1      13.8   21.8   29.0   63.2  209.0  332.5   361.3   \n",
            "1  BALASORE     15.4      23.9   34.6   63.8  136.9  252.7  309.6   354.8   \n",
            "2   BARGARH      8.9      12.3   12.2   15.3   27.9  213.7  380.6   384.7   \n",
            "3   BHADRAK     10.4      20.7   29.5   55.9  114.1  206.8  290.1   339.3   \n",
            "4  BOLANGIR      9.2      10.1   11.1   18.6   36.3  177.0  357.0   354.5   \n",
            "\n",
            "   September  ...  December  Annual_Rainfall  Winter_Rainfall  \\\n",
            "0      222.0  ...       6.6           1375.9             25.9   \n",
            "1      308.0  ...       5.5           1728.5             39.3   \n",
            "2      215.7  ...       8.1           1338.3             21.2   \n",
            "3      254.2  ...       5.0           1536.5             31.1   \n",
            "4      206.6  ...       5.6           1249.1             19.3   \n",
            "\n",
            "   Pre_Monsoon_Rainfall  Monsoon_Rainfall  Post_Monsoon_Rainfall  \\\n",
            "0                 114.0            1124.8                  111.2   \n",
            "1                 235.3            1225.1                  228.8   \n",
            "2                  55.4            1194.7                   67.0   \n",
            "3                 199.5            1090.4                  215.5   \n",
            "4                  66.0            1095.1                   68.7   \n",
            "\n",
            "   Winter_Percent  Pre_Monsoon_Percent  Monsoon_Percent  Post_Monsoon_Percent  \n",
            "0             1.9                  8.3             81.8                   8.1  \n",
            "1             2.3                 13.6             70.9                  13.2  \n",
            "2             1.6                  4.1             89.3                   5.0  \n",
            "3             2.0                 13.0             71.0                  14.0  \n",
            "4             1.5                  5.3             87.7                   5.5  \n",
            "\n",
            "[5 rows x 22 columns]\n",
            "<class 'pandas.core.frame.DataFrame'>\n",
            "RangeIndex: 30 entries, 0 to 29\n",
            "Data columns (total 22 columns):\n",
            " #   Column                 Non-Null Count  Dtype  \n",
            "---  ------                 --------------  -----  \n",
            " 0   District               30 non-null     object \n",
            " 1   January                30 non-null     float64\n",
            " 2   February               30 non-null     float64\n",
            " 3   March                  30 non-null     float64\n",
            " 4   April                  30 non-null     float64\n",
            " 5   May                    30 non-null     float64\n",
            " 6   June                   30 non-null     float64\n",
            " 7   July                   30 non-null     float64\n",
            " 8   August                 30 non-null     float64\n",
            " 9   September              30 non-null     float64\n",
            " 10  October                30 non-null     float64\n",
            " 11  November               30 non-null     float64\n",
            " 12  December               30 non-null     float64\n",
            " 13  Annual_Rainfall        30 non-null     float64\n",
            " 14  Winter_Rainfall        30 non-null     float64\n",
            " 15  Pre_Monsoon_Rainfall   30 non-null     float64\n",
            " 16  Monsoon_Rainfall       30 non-null     float64\n",
            " 17  Post_Monsoon_Rainfall  30 non-null     float64\n",
            " 18  Winter_Percent         30 non-null     float64\n",
            " 19  Pre_Monsoon_Percent    30 non-null     float64\n",
            " 20  Monsoon_Percent        30 non-null     float64\n",
            " 21  Post_Monsoon_Percent   30 non-null     float64\n",
            "dtypes: float64(21), object(1)\n",
            "memory usage: 5.3+ KB\n",
            "None\n",
            "         January   February      March      April         May        June  \\\n",
            "count  30.000000  30.000000  30.000000  30.000000   30.000000   30.000000   \n",
            "mean   10.433333  14.993333  20.200000  35.533333   73.660000  204.373333   \n",
            "std     3.226222   4.594294   7.644245  15.399179   30.464344   27.507854   \n",
            "min     2.100000   4.100000   8.900000  15.300000   27.900000  158.200000   \n",
            "25%     8.700000  11.625000  13.850000  21.200000   45.925000  183.450000   \n",
            "50%    10.300000  15.650000  19.550000  33.150000   77.100000  199.550000   \n",
            "75%    12.850000  18.500000  26.025000  46.950000   94.275000  214.375000   \n",
            "max    15.600000  23.900000  35.500000  69.200000  136.900000  272.800000   \n",
            "\n",
            "             July      August   September     October  ...   December  \\\n",
            "count   30.000000   30.000000   30.000000   30.000000  ...  30.000000   \n",
            "mean   335.513333  361.940000  236.886667  118.490000  ...   6.616667   \n",
            "std     46.717786   47.030523   25.259081   49.922335  ...   1.525436   \n",
            "min    244.200000  250.900000  190.100000   50.200000  ...   3.500000   \n",
            "25%    309.725000  345.300000  219.975000   68.675000  ...   5.525000   \n",
            "50%    329.150000  360.750000  239.100000  118.900000  ...   6.500000   \n",
            "75%    362.300000  391.525000  249.600000  164.600000  ...   7.675000   \n",
            "max    440.400000  450.400000  308.000000  203.500000  ...   9.700000   \n",
            "\n",
            "       Annual_Rainfall  Winter_Rainfall  Pre_Monsoon_Rainfall  \\\n",
            "count        30.000000        30.000000             30.000000   \n",
            "mean       1442.550000        25.426667            129.393333   \n",
            "std         130.344273         7.181967             51.063712   \n",
            "min        1171.900000         6.200000             55.400000   \n",
            "25%        1362.800000        21.375000             80.025000   \n",
            "50%        1443.050000        26.450000            136.400000   \n",
            "75%        1531.000000        29.975000            155.950000   \n",
            "max        1728.500000        39.300000            235.300000   \n",
            "\n",
            "       Monsoon_Rainfall  Post_Monsoon_Rainfall  Winter_Percent  \\\n",
            "count         30.000000              30.000000       30.000000   \n",
            "mean        1138.713333             149.016667        1.773333   \n",
            "std          116.605180              62.092140        0.463073   \n",
            "min          881.500000              67.000000        0.400000   \n",
            "25%         1079.750000              85.875000        1.525000   \n",
            "50%         1143.900000             147.750000        1.900000   \n",
            "75%         1203.400000             204.150000        2.100000   \n",
            "max         1376.200000             254.400000        2.400000   \n",
            "\n",
            "       Pre_Monsoon_Percent  Monsoon_Percent  Post_Monsoon_Percent  \n",
            "count            30.000000        30.000000             30.000000  \n",
            "mean              8.850000        79.136667             10.253333  \n",
            "std               3.119101         6.891498              4.118900  \n",
            "min               4.100000        66.100000              5.000000  \n",
            "25%               5.975000        74.350000              6.625000  \n",
            "50%               9.100000        76.950000              9.650000  \n",
            "75%              10.875000        85.850000             13.200000  \n",
            "max              15.600000        89.300000             19.200000  \n",
            "\n",
            "[8 rows x 21 columns]\n"
          ]
        }
      ]
    },
    {
      "cell_type": "code",
      "source": [
        "# Check missing values\n",
        "print(df.isnull().sum())\n",
        "\n",
        "# Check duplicates\n",
        "print(df.duplicated().sum())\n",
        "\n",
        "# Check types\n",
        "print(df.dtypes)\n"
      ],
      "metadata": {
        "colab": {
          "base_uri": "https://localhost:8080/"
        },
        "id": "Og_-RIsk1xWM",
        "outputId": "5d64eaf8-d055-409b-c271-0b4889c2de76"
      },
      "execution_count": 3,
      "outputs": [
        {
          "output_type": "stream",
          "name": "stdout",
          "text": [
            "District                 0\n",
            "January                  0\n",
            "February                 0\n",
            "March                    0\n",
            "April                    0\n",
            "May                      0\n",
            "June                     0\n",
            "July                     0\n",
            "August                   0\n",
            "September                0\n",
            "October                  0\n",
            "November                 0\n",
            "December                 0\n",
            "Annual_Rainfall          0\n",
            "Winter_Rainfall          0\n",
            "Pre_Monsoon_Rainfall     0\n",
            "Monsoon_Rainfall         0\n",
            "Post_Monsoon_Rainfall    0\n",
            "Winter_Percent           0\n",
            "Pre_Monsoon_Percent      0\n",
            "Monsoon_Percent          0\n",
            "Post_Monsoon_Percent     0\n",
            "dtype: int64\n",
            "0\n",
            "District                  object\n",
            "January                  float64\n",
            "February                 float64\n",
            "March                    float64\n",
            "April                    float64\n",
            "May                      float64\n",
            "June                     float64\n",
            "July                     float64\n",
            "August                   float64\n",
            "September                float64\n",
            "October                  float64\n",
            "November                 float64\n",
            "December                 float64\n",
            "Annual_Rainfall          float64\n",
            "Winter_Rainfall          float64\n",
            "Pre_Monsoon_Rainfall     float64\n",
            "Monsoon_Rainfall         float64\n",
            "Post_Monsoon_Rainfall    float64\n",
            "Winter_Percent           float64\n",
            "Pre_Monsoon_Percent      float64\n",
            "Monsoon_Percent          float64\n",
            "Post_Monsoon_Percent     float64\n",
            "dtype: object\n"
          ]
        }
      ]
    },
    {
      "cell_type": "code",
      "source": [
        "print(df.columns)\n"
      ],
      "metadata": {
        "colab": {
          "base_uri": "https://localhost:8080/"
        },
        "id": "LP5Gs67h11-S",
        "outputId": "3e5c8b66-c80b-4030-d273-71e7df6433fe"
      },
      "execution_count": 5,
      "outputs": [
        {
          "output_type": "stream",
          "name": "stdout",
          "text": [
            "Index(['District', 'January', 'February', 'March', 'April', 'May', 'June',\n",
            "       'July', 'August', 'September', 'October', 'November', 'December',\n",
            "       'Annual_Rainfall', 'Winter_Rainfall', 'Pre_Monsoon_Rainfall',\n",
            "       'Monsoon_Rainfall', 'Post_Monsoon_Rainfall', 'Winter_Percent',\n",
            "       'Pre_Monsoon_Percent', 'Monsoon_Percent', 'Post_Monsoon_Percent'],\n",
            "      dtype='object')\n"
          ]
        }
      ]
    },
    {
      "cell_type": "code",
      "source": [
        "import pandas as pd\n",
        "\n",
        "# Assume df is already loaded\n",
        "months = ['January', 'February', 'March', 'April', 'May', 'June',\n",
        "          'July', 'August', 'September', 'October', 'November', 'December']\n",
        "\n",
        "# Melt monthly columns into one 'Rainfall' column\n",
        "df_long = df.melt(id_vars=['District'], value_vars=months,\n",
        "                  var_name='Month', value_name='Rainfall')\n",
        "\n",
        "# Fill missing values by interpolation\n",
        "df_long['Rainfall'] = df_long['Rainfall'].interpolate()\n",
        "\n",
        "# Optional: convert Month names to numbers\n",
        "month_mapping = {name: i for i, name in enumerate(months, start=1)}\n",
        "df_long['Month'] = df_long['Month'].map(month_mapping)\n",
        "\n",
        "# Add Year or Date column if needed\n",
        "df_long['Year'] = 2023  # replace with correct year column if exists\n",
        "df_long['Date'] = pd.to_datetime(df_long[['Year','Month']].assign(DAY=1))\n",
        "\n",
        "# Check cleaned data\n",
        "print(df_long.head())\n"
      ],
      "metadata": {
        "colab": {
          "base_uri": "https://localhost:8080/"
        },
        "id": "solkzx1A45E-",
        "outputId": "a70c54fd-69e5-4555-9c1c-000101add664"
      },
      "execution_count": 10,
      "outputs": [
        {
          "output_type": "stream",
          "name": "stdout",
          "text": [
            "   District  Month  Rainfall  Year       Date\n",
            "0     ANGUL      1      12.1  2023 2023-01-01\n",
            "1  BALASORE      1      15.4  2023 2023-01-01\n",
            "2   BARGARH      1       8.9  2023 2023-01-01\n",
            "3   BHADRAK      1      10.4  2023 2023-01-01\n",
            "4  BOLANGIR      1       9.2  2023 2023-01-01\n"
          ]
        }
      ]
    },
    {
      "cell_type": "code",
      "source": [
        "# --- Step 4: Handle missing values ---\n",
        "df_long['Rainfall'] = df_long['Rainfall'].interpolate()  # interpolate missing values\n",
        "df_long = df_long.dropna()"
      ],
      "metadata": {
        "id": "wabrVTGm5FWK"
      },
      "execution_count": 11,
      "outputs": []
    },
    {
      "cell_type": "code",
      "source": [
        "# --- Step 5: Convert Month names to numbers ---\n",
        "month_mapping = {name: i for i, name in enumerate(months, start=1)}\n",
        "df_long['Month'] = df_long['Month'].map(month_mapping)"
      ],
      "metadata": {
        "id": "4lDFcEmO5bqp"
      },
      "execution_count": 12,
      "outputs": []
    },
    {
      "cell_type": "code",
      "source": [
        "df_long['Year'] = 2023\n",
        "df_long['Date'] = pd.to_datetime(df_long[['Year','Month']].assign(DAY=1))\n",
        "df_long = df_long.sort_values('Date').reset_index(drop=True)"
      ],
      "metadata": {
        "id": "KWVQMNRp5eto"
      },
      "execution_count": 13,
      "outputs": []
    },
    {
      "cell_type": "code",
      "source": [
        "# --- Step 7: Detect and remove outliers using IQR method ---\n",
        "Q1 = df_long['Rainfall'].quantile(0.25)\n",
        "Q3 = df_long['Rainfall'].quantile(0.75)\n",
        "IQR = Q3 - Q1\n",
        "\n",
        "df_clean = df_long[(df_long['Rainfall'] >= Q1 - 1.5*IQR) &\n",
        "                   (df_long['Rainfall'] <= Q3 + 1.5*IQR)]"
      ],
      "metadata": {
        "id": "gOFENDtx5kNw"
      },
      "execution_count": 14,
      "outputs": []
    },
    {
      "cell_type": "code",
      "source": [
        "# Optional: visualize cleaned rainfall data\n",
        "plt.figure(figsize=(10,5))\n",
        "sns.boxplot(df_clean['Rainfall'])\n",
        "plt.title(\"Monthly Rainfall Boxplot (Cleaned)\")\n",
        "plt.show()"
      ],
      "metadata": {
        "colab": {
          "base_uri": "https://localhost:8080/",
          "height": 449
        },
        "id": "6h6yy62w5pt6",
        "outputId": "ac936097-17b0-420b-86c0-958782cb775c"
      },
      "execution_count": 15,
      "outputs": [
        {
          "output_type": "display_data",
          "data": {
            "text/plain": [
              "<Figure size 1000x500 with 1 Axes>"
            ],
            "image/png": "[encoded data removed]"
          },
          "metadata": {}
        }
      ]
    },
    {
      "cell_type": "code",
      "source": [
        "print(df_clean.head())\n",
        "print(\"Cleaned dataset shape:\", df_clean.shape)"
      ],
      "metadata": {
        "colab": {
          "base_uri": "https://localhost:8080/"
        },
        "id": "iHod3pxp5z7b",
        "outputId": "82051c17-a02b-4a60-91cd-bcd4c0007a4d"
      },
      "execution_count": 16,
      "outputs": [
        {
          "output_type": "stream",
          "name": "stdout",
          "text": [
            "   District  Month  Rainfall  Year Date\n",
            "0     ANGUL    NaN      12.1  2023  NaT\n",
            "1  BALASORE    NaN      15.4  2023  NaT\n",
            "2   BARGARH    NaN       8.9  2023  NaT\n",
            "3   BHADRAK    NaN      10.4  2023  NaT\n",
            "4  BOLANGIR    NaN       9.2  2023  NaT\n",
            "Cleaned dataset shape: (360, 5)\n"
          ]
        }
      ]
    },
    {
      "cell_type": "code",
      "source": [
        "df_clean.to_csv(\"odisha_rainfall_cleaned.csv\", index=False)\n",
        "print(\"Cleaned dataset saved as 'odisha_rainfall_cleaned.csv'\")"
      ],
      "metadata": {
        "colab": {
          "base_uri": "https://localhost:8080/"
        },
        "id": "YsAK7fyU6DgQ",
        "outputId": "4caeb7bb-9cb3-4343-812c-f5d8f53be39a"
      },
      "execution_count": 17,
      "outputs": [
        {
          "output_type": "stream",
          "name": "stdout",
          "text": [
            "Cleaned dataset saved as 'odisha_rainfall_cleaned.csv'\n"
          ]
        }
      ]
    },
    {
      "cell_type": "code",
      "source": [
        "\n",
        "# === Step 7: Train-Test Split ===\n",
        "X = df_clean[['Year', 'Month']]\n",
        "y = df_clean['Rainfall']\n",
        "X_train, X_test, y_train, y_test = train_test_split(X, y, test_size=0.2, shuffle=False)"
      ],
      "metadata": {
        "id": "DZBInxoH8IpW"
      },
      "execution_count": 21,
      "outputs": []
    },
    {
      "cell_type": "code",
      "source": [
        "model = RandomForestRegressor(n_estimators=100, random_state=42)\n",
        "model.fit(X_train, y_train)"
      ],
      "metadata": {
        "id": "7xjx2Pk98M0u"
      },
      "execution_count": null,
      "outputs": []
    },
    {
      "cell_type": "code",
      "source": [
        "from sklearn.ensemble import RandomForestRegressor\n",
        "\n",
        "# === Train Random Forest Regressor ===\n",
        "model = RandomForestRegressor(n_estimators=100, random_state=42)\n",
        "model.fit(X_train, y_train)  # Make sure X_train and y_train are defined\n",
        "\n",
        "# === Predict on test set ===\n",
        "y_pred = model.predict(X_test)\n"
      ],
      "metadata": {
        "id": "m0BJnFUS8Pxb"
      },
      "execution_count": 23,
      "outputs": []
    },
    {
      "cell_type": "code",
      "source": [
        "from sklearn.metrics import mean_squared_error, mean_absolute_error, r2_score\n",
        "import numpy as np\n",
        "\n",
        "# RMSE calculation for older scikit-learn versions\n",
        "rmse = np.sqrt(mean_squared_error(y_test, y_pred))\n",
        "mae = mean_absolute_error(y_test, y_pred)\n",
        "r2 = r2_score(y_test, y_pred)\n",
        "\n",
        "print(f\"RMSE: {rmse:.2f}\")\n",
        "print(f\"MAE: {mae:.2f}\")\n",
        "print(f\"R² Score: {r2:.2f}\")\n",
        "\n"
      ],
      "metadata": {
        "colab": {
          "base_uri": "https://localhost:8080/"
        },
        "id": "EGVyQzIe8fsz",
        "outputId": "ef3ff680-89cc-417b-d5c9-4641f6138ec3"
      },
      "execution_count": 25,
      "outputs": [
        {
          "output_type": "stream",
          "name": "stdout",
          "text": [
            "RMSE: 119.50\n",
            "MAE: 114.38\n",
            "R² Score: -7.95\n"
          ]
        }
      ]
    },
    {
      "cell_type": "code",
      "source": [
        "df = pd.read_csv(\"/content/sample_data/odisha_rainfall.csv\")\n"
      ],
      "metadata": {
        "id": "hGgzOBSx9wH4"
      },
      "execution_count": 28,
      "outputs": []
    },
    {
      "cell_type": "code",
      "source": [
        "print(\"Columns in the dataset:\", df.columns)\n"
      ],
      "metadata": {
        "colab": {
          "base_uri": "https://localhost:8080/"
        },
        "id": "o7pjHUAu-6lU",
        "outputId": "34ffaa7d-777d-42bf-d513-49ab2b0bc14e"
      },
      "execution_count": 31,
      "outputs": [
        {
          "output_type": "stream",
          "name": "stdout",
          "text": [
            "Columns in the dataset: Index(['District', 'January', 'February', 'March', 'April', 'May', 'June',\n",
            "       'July', 'August', 'September', 'October', 'November', 'December',\n",
            "       'Annual_Rainfall', 'Winter_Rainfall', 'Pre_Monsoon_Rainfall',\n",
            "       'Monsoon_Rainfall', 'Post_Monsoon_Rainfall', 'Winter_Percent',\n",
            "       'Pre_Monsoon_Percent', 'Monsoon_Percent', 'Post_Monsoon_Percent'],\n",
            "      dtype='object')\n"
          ]
        }
      ]
    },
    {
      "cell_type": "code",
      "source": [
        "months = ['January', 'February', 'March', 'April', 'May', 'June',\n",
        "          'July', 'August', 'September', 'October', 'November', 'December']\n",
        "\n",
        "df_long = df.melt(id_vars=['District'], value_vars=months,\n",
        "                  var_name='Month', value_name='Rainfall')"
      ],
      "metadata": {
        "id": "EAhm9_vy_hkR"
      },
      "execution_count": 32,
      "outputs": []
    },
    {
      "cell_type": "code",
      "source": [
        "month_mapping = {name: i for i, name in enumerate(months, start=1)}\n",
        "df_long['Month'] = df_long['Month'].map(month_mapping)"
      ],
      "metadata": {
        "id": "rZ0Q2WWJ_jRl"
      },
      "execution_count": 33,
      "outputs": []
    },
    {
      "cell_type": "code",
      "source": [
        "df_long['Year'] = 2023\n",
        "df_long['Date'] = pd.to_datetime(df_long[['Year','Month']].assign(DAY=1))"
      ],
      "metadata": {
        "id": "viS81MU1_orH"
      },
      "execution_count": 34,
      "outputs": []
    },
    {
      "cell_type": "code",
      "source": [
        "print(\"Missing values per column:\\n\", df_long.isnull().sum())\n",
        "print(\"Number of duplicate rows:\", df_long.duplicated().sum())"
      ],
      "metadata": {
        "colab": {
          "base_uri": "https://localhost:8080/"
        },
        "id": "B-7jn4mN_uAW",
        "outputId": "661afc6a-289c-4d55-e31f-5a91217be549"
      },
      "execution_count": 35,
      "outputs": [
        {
          "output_type": "stream",
          "name": "stdout",
          "text": [
            "Missing values per column:\n",
            " District    0\n",
            "Month       0\n",
            "Rainfall    0\n",
            "Year        0\n",
            "Date        0\n",
            "dtype: int64\n",
            "Number of duplicate rows: 0\n"
          ]
        }
      ]
    },
    {
      "cell_type": "code",
      "source": [
        "print(df_long[['Date', 'District', 'Rainfall']].head(12))"
      ],
      "metadata": {
        "colab": {
          "base_uri": "https://localhost:8080/"
        },
        "id": "EzrxFUTx_zDC",
        "outputId": "83295c2b-0ba1-43bc-c84e-da6f50af9608"
      },
      "execution_count": 36,
      "outputs": [
        {
          "output_type": "stream",
          "name": "stdout",
          "text": [
            "         Date       District  Rainfall\n",
            "0  2023-01-01          ANGUL      12.1\n",
            "1  2023-01-01       BALASORE      15.4\n",
            "2  2023-01-01        BARGARH       8.9\n",
            "3  2023-01-01        BHADRAK      10.4\n",
            "4  2023-01-01       BOLANGIR       9.2\n",
            "5  2023-01-01      BOUDHGARH       6.6\n",
            "6  2023-01-01        CUTTACK      10.3\n",
            "7  2023-01-01        DEOGARH      14.3\n",
            "8  2023-01-01      DHENKANAL      11.7\n",
            "9  2023-01-01       GAJAPATI       9.4\n",
            "10 2023-01-01         GANJAM      10.3\n",
            "11 2023-01-01  JAGATSINGHPUR       8.7\n"
          ]
        }
      ]
    }
  ]
}